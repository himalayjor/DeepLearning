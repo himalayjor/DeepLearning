{
 "cells": [
  {
   "cell_type": "code",
   "execution_count": 1,
   "metadata": {},
   "outputs": [
    {
     "name": "stdout",
     "output_type": "stream",
     "text": [
      "[0.71517409 0.92848404 0.75836429 0.92242691 0.92639383]\n"
     ]
    }
   ],
   "source": [
    "import numpy as np\n",
    "\n",
    "A = np.random.rand(5) #Rank1 vector. Don't use this in Deeplearning code.\n",
    "\n",
    "print(A)"
   ]
  },
  {
   "cell_type": "code",
   "execution_count": 3,
   "metadata": {},
   "outputs": [
    {
     "name": "stdout",
     "output_type": "stream",
     "text": [
      "[0.71517409 0.92848404 0.75836429 0.92242691 0.92639383]\n",
      "3.6577499154742648\n"
     ]
    }
   ],
   "source": [
    "print(A.T)\n",
    "print(np.dot(A, A.T))"
   ]
  },
  {
   "cell_type": "code",
   "execution_count": 4,
   "metadata": {},
   "outputs": [
    {
     "name": "stdout",
     "output_type": "stream",
     "text": [
      "[[0.46355895]\n",
      " [0.728365  ]\n",
      " [0.63226284]\n",
      " [0.09532311]\n",
      " [0.52292312]]\n",
      "[[0.46355895 0.728365   0.63226284 0.09532311 0.52292312]]\n",
      "[[0.2148869  0.33764012 0.2930911  0.04418788 0.24240569]\n",
      " [0.33764012 0.53051557 0.46051812 0.06943002 0.3808789 ]\n",
      " [0.2930911  0.46051812 0.39975629 0.06026926 0.33062485]\n",
      " [0.04418788 0.06943002 0.06026926 0.00908649 0.04984666]\n",
      " [0.24240569 0.3808789  0.33062485 0.04984666 0.27344858]]\n"
     ]
    }
   ],
   "source": [
    "B = np.random.rand(5,1) # Use this instead \n",
    "print(B)\n",
    "print(B.T)\n",
    "print(np.dot(B, B.T))"
   ]
  },
  {
   "cell_type": "code",
   "execution_count": null,
   "metadata": {},
   "outputs": [],
   "source": []
  }
 ],
 "metadata": {
  "kernelspec": {
   "display_name": "Python 3",
   "language": "python",
   "name": "python3"
  },
  "language_info": {
   "codemirror_mode": {
    "name": "ipython",
    "version": 3
   },
   "file_extension": ".py",
   "mimetype": "text/x-python",
   "name": "python",
   "nbconvert_exporter": "python",
   "pygments_lexer": "ipython3",
   "version": "3.6.4"
  }
 },
 "nbformat": 4,
 "nbformat_minor": 2
}
