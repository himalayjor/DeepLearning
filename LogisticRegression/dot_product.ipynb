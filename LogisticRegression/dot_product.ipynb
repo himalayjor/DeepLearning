{
 "cells": [
  {
   "cell_type": "code",
   "execution_count": 5,
   "metadata": {},
   "outputs": [
    {
     "name": "stdout",
     "output_type": "stream",
     "text": [
      "252.33562837734897\n",
      "0.12731552124023438\n",
      "252.33562837734883\n",
      "1.0082721710205078\n"
     ]
    }
   ],
   "source": [
    "import numpy as np\n",
    "import time\n",
    "\n",
    "\n",
    "x = np.random.rand(1000)\n",
    "y = np.random.rand(1000)\n",
    "\n",
    "\n",
    "st = time.time()\n",
    "z = np.dot(x, y)\n",
    "\n",
    "en = time.time()\n",
    "\n",
    "print(z)\n",
    "print((en - st) * 1000)\n",
    "\n",
    "st = time.time()\n",
    "c = 0\n",
    "for i in range(1000):\n",
    "    c += x[i] * y[i]\n",
    "en = time.time()\n",
    "\n",
    "print(c)\n",
    "print((en - st)*1000)"
   ]
  },
  {
   "cell_type": "code",
   "execution_count": null,
   "metadata": {},
   "outputs": [],
   "source": []
  }
 ],
 "metadata": {
  "kernelspec": {
   "display_name": "Python 3",
   "language": "python",
   "name": "python3"
  },
  "language_info": {
   "codemirror_mode": {
    "name": "ipython",
    "version": 3
   },
   "file_extension": ".py",
   "mimetype": "text/x-python",
   "name": "python",
   "nbconvert_exporter": "python",
   "pygments_lexer": "ipython3",
   "version": "3.6.4"
  }
 },
 "nbformat": 4,
 "nbformat_minor": 2
}
